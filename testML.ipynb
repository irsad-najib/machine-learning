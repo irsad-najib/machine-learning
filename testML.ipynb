{
 "cells": [
  {
   "cell_type": "code",
   "execution_count": 1,
   "metadata": {},
   "outputs": [],
   "source": [
    "import pickle\n",
    "import numpy as np\n",
    "import logging\n",
    "\n",
    "from classesCode import EarthquakePredictor , EnhancedRandomForest, DecisionTree"
   ]
  },
  {
   "cell_type": "code",
   "execution_count": 2,
   "metadata": {},
   "outputs": [],
   "source": [
    "logger = logging.getLogger(__name__)\n",
    "logger.setLevel(logging.INFO)\n",
    "handler = logging.StreamHandler()\n",
    "handler.setFormatter(logging.Formatter('%(asctime)s - %(levelname)s - %(message)s'))\n",
    "logger.addHandler(handler)\n"
   ]
  },
  {
   "cell_type": "code",
   "execution_count": 3,
   "metadata": {},
   "outputs": [],
   "source": [
    "def load_model(model_path):\n",
    "    try:\n",
    "        with open(model_path, 'rb') as f:\n",
    "            model = pickle.load(f)\n",
    "        logger.info(\"Model loaded successfully\")\n",
    "        return model\n",
    "    except Exception as e:\n",
    "        logger.error(f\"Error loading model: {str(e)}\")\n",
    "        raise"
   ]
  },
  {
   "cell_type": "code",
   "execution_count": 4,
   "metadata": {},
   "outputs": [],
   "source": [
    "def preprocess_input(input_data, features, norm_mean, norm_std):\n",
    "    # Convert to list in correct feature order\n",
    "    processed = [input_data.get(f, 0) for f in features]  # Handle missing features\n",
    "    \n",
    "    # Normalize\n",
    "    normalized = (np.array(processed) - norm_mean) / norm_std\n",
    "    return normalized.reshape(1, -1)"
   ]
  },
  {
   "cell_type": "code",
   "execution_count": 5,
   "metadata": {},
   "outputs": [],
   "source": [
    "sample_input = {\n",
    "    'latitude': 36.12,\n",
    "    'longitude': 138.05,\n",
    "    'depth': 15,\n",
    "    'nst': 90,\n",
    "    'gap': 1.32,\n",
    "    'dmin': 0.65,\n",
    "    'rms': 7.0,\n",
    "    'horizontalError': 3.5,\n",
    "    'depthError': 0.005,\n",
    "    'magError': 8.7,\n",
    "    'magNst': 100,\n",
    "    'year': 2023,\n",
    "    'month': 4,\n",
    "    'day': 4,\n",
    "    'hour': 12,\n",
    "    'dayofweek': 2,\n",
    "    'magType_mb': 1,  # Contoh one-hot encoded feature\n",
    "}\n"
   ]
  },
  {
   "cell_type": "code",
   "execution_count": 6,
   "metadata": {},
   "outputs": [
    {
     "name": "stderr",
     "output_type": "stream",
     "text": [
      "2025-04-05 20:28:05,555 - INFO - Model loaded successfully\n",
      "2025-04-05 20:28:05,556 - INFO - Memulai prediksi 1 sampel...\n",
      "2025-04-05 20:28:05,559 - INFO - Diproses 10/50 pohon | Waktu: 0.00s\n",
      "2025-04-05 20:28:05,559 - INFO - Diproses 20/50 pohon | Waktu: 0.00s\n",
      "2025-04-05 20:28:05,559 - INFO - Diproses 30/50 pohon | Waktu: 0.00s\n",
      "2025-04-05 20:28:05,559 - INFO - Diproses 40/50 pohon | Waktu: 0.00s\n",
      "2025-04-05 20:28:05,559 - INFO - Diproses 50/50 pohon | Waktu: 0.00s\n",
      "2025-04-05 20:28:05,566 - INFO - Prediksi selesai\n"
     ]
    },
    {
     "name": "stdout",
     "output_type": "stream",
     "text": [
      "\n",
      "=== Prediction Result ===\n",
      "Predicted Magnitude: 4.83\n",
      "Category: Kerusakan ringan (Level 1)\n",
      "Description: Kerusakan ringan (Magnitudo 2.5-5.4) - Menyebabkan kerusakan ringan\n"
     ]
    }
   ],
   "source": [
    "if __name__ == '__main__':\n",
    "    # 1. Load model\n",
    "    model = load_model('earthquake_predictor_model_20250405_1931.pkl')  \n",
    "    # 2. Preprocess input\n",
    "    try:\n",
    "        processed_input = preprocess_input(\n",
    "            sample_input,\n",
    "            model.features,\n",
    "            model.norm_mean,\n",
    "            model.norm_std\n",
    "        )\n",
    "    except KeyError as e:\n",
    "        logger.error(f\"Missing feature in input: {str(e)}\")\n",
    "        exit(1)\n",
    "        \n",
    "    # 3. Predict\n",
    "    try:\n",
    "        prediction = model.predict_with_details(processed_input)\n",
    "        result = prediction[0]\n",
    "        \n",
    "        print(\"\\n=== Prediction Result ===\")\n",
    "        print(f\"Predicted Magnitude: {result['magnitude']:.2f}\")\n",
    "        print(f\"Category: {result['category_name']} (Level {result['category']})\")\n",
    "        print(f\"Description: {result['description']}\")\n",
    "    except Exception as e:\n",
    "        logger.error(f\"Prediction error: {str(e)}\")"
   ]
  }
 ],
 "metadata": {
  "kernelspec": {
   "display_name": "Python 3",
   "language": "python",
   "name": "python3"
  },
  "language_info": {
   "codemirror_mode": {
    "name": "ipython",
    "version": 3
   },
   "file_extension": ".py",
   "mimetype": "text/x-python",
   "name": "python",
   "nbconvert_exporter": "python",
   "pygments_lexer": "ipython3",
   "version": "3.12.3"
  }
 },
 "nbformat": 4,
 "nbformat_minor": 2
}
